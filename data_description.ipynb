{
  "nbformat": 4,
  "nbformat_minor": 0,
  "metadata": {
    "kernelspec": {
      "display_name": "Python 3",
      "language": "python",
      "name": "python3"
    },
    "language_info": {
      "codemirror_mode": {
        "name": "ipython",
        "version": 3
      },
      "file_extension": ".py",
      "mimetype": "text/x-python",
      "name": "python",
      "nbconvert_exporter": "python",
      "pygments_lexer": "ipython3",
      "version": "3.7.4"
    },
    "colab": {
      "name": "data_description.ipynb",
      "provenance": []
    }
  },
  "cells": [
    {
      "cell_type": "markdown",
      "metadata": {
        "id": "o75NR9-gkdSw"
      },
      "source": [
        "- **encounter_id** - Unikalny identyfikator spotkania.\n",
        "- **patient_nbr** - Unikalny identyfikator pacjenta\n",
        "- **race** - Rasa\n",
        "- **gender** - Płeć\n",
        "- **age** - Wiek pogrupowany w 10-letnich interwałach\n",
        "- **weight** - Waga w funtach\n",
        "- **admission_type_id** - Cyfrowy identyfikator rodzaju przyjęcia do szpitala (np. \"awaryjny\", \"nowo narodzony\" itp.)\n",
        "- **discharge_disposition_id** - Cyfrowy identyfikator rodzaju wypisania ze szpitala (np. \"przeterminowane\", \"zwolniony do domu\" itp.)\n",
        "- **admission_source_id** - Cyfrowy identyfikator źródła wizyty (np. \"transfer z innego szpitala\", \"skierowanie od lekarza\" itp.)\n",
        "- **time_in_hospital** - Czas w szpitalu w dniach\n",
        "- **payer_code** - Identyfikator rodzaju płatności (np. czy pacjent sam płacił albo czy miał ubezpieczenie w Blue Cross/Blue Shield itp.)\n",
        "- **medical_specialty** - Specjalizacja lekarza, który przyjął pacjenta\n",
        "- **num_lab_procedures** - Ilość testów laboratoryjnych przeprowadzonych w trakcie spotkania\n",
        "- **num_procedures** - Ilość procedur (innych, niż testy laboratoryjne) przeprowadzonych w trakcie spotkania\n",
        "- **num_medications** - Ilość unikalnych lekarstw podanych w trakcie spotkania\n",
        "- **number_outpatient** - Ilość wizyt ambulatorium przez pacjenta w ciągu roku poprzedzającego spotkanie\n",
        "- **number_emergency** - Ilość awaryjnych (ang. emergency) wizyt pacjenta w ciągu roku poprzedzającego spotkanie\n",
        "- **number_inpatient** - Ilość hospitalizowanych wizyt pacjenta w ciągu roku poprzedzającego spotkanie\n",
        "- **diag_1** - Pierwotna diagnoza (oznaczona jako 3 pierwsze cyfry wg standardu ICD9)\n",
        "- **diag_2** - Wtórna diagnoza (oznaczona jako 3 pierwsze cyfry wg standardu ICD9)\n",
        "- **diag_3** - Dodatkowa wtórna diagnoza (oznaczona jako 3 pierwsze cyfry wg standardu ICD9)\n",
        "- **number_diagnoses** - Ilość diagnoz wprowadzona do systemu\n",
        "- **max_glu_serum** - Wynik badań na glukozę.\n",
        "- **A1Cresult** - Wynik badania A1c. \">8\" jeśli wynik był większy, niż 8%, \">7\" jeśli wynik był większy, niż 7%, ale mniejszy, niż 8%. \"normal\" jeśli wynik jest mniejszy, niż 7%\n",
        "- **change** - Informacja, czy była zmiana w lekarstwach (zarówno dawka, jak i rodzaj leku)\n",
        "- **diabetesMed** - Informacja, czy była recepta na dowolne lekarstwa na cukrzycę\n",
        "- 24 kolumny z nazwami lekarstw (**metformin, repaglinide, nateglinide, chlorpropamide, glimepiride, acetohexamide, glipizide, glyburide, tolbutamide, pioglitazone, rosiglitazone, acarbose, miglitol, troglitazone, tolazamide, examide, sitagliptin, insulin, glyburide-metformin, glipizide-metformin, glimepiride-pioglitazone, metformin-rosiglitazone, metformin-pioglitazone**) - Mówi o tym czy dawka na dane lekarstwo została zwiększona, zmniejszona, czy pozostała bez zmian, lub czy w ogóle nie było recepty na to lekarstwo\n",
        "- **readmitted** - Czy w ciągu 30 dni pacjent był ponownie skierowany do hospitalizacji\n",
        "- **id** - Unikalne id obserwacji (potrzebne do Kaggle)"
      ]
    }
  ]
}